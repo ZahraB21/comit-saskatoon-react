{
 "cells": [
  {
   "cell_type": "code",
   "execution_count": 3,
   "metadata": {},
   "outputs": [
    {
     "data": {
      "text/plain": [
       "[\n",
       "  {\n",
       "    name: 'Soccer ball',\n",
       "    price: 44,\n",
       "    description: 'The best soccer ball ever!',\n",
       "    image: 'imgs/soccer/ball.png'\n",
       "  },\n",
       "  {\n",
       "    name: 'Tubing raft',\n",
       "    price: 624,\n",
       "    description: 'Have some extreme fun being pulled in this raft!',\n",
       "    image: 'imgs/soccer/ball.png'\n",
       "  },\n",
       "  {\n",
       "    name: 'Chess board and pieces',\n",
       "    price: 499,\n",
       "    description: 'finest wood',\n",
       "    image: 'imgs/soccer/ball.png'\n",
       "  }\n",
       "]"
      ]
     },
     "execution_count": 3,
     "metadata": {},
     "output_type": "execute_result"
    }
   ],
   "source": [
    "items = [\n",
    "    {\n",
    "        name: 'Soccer ball',\n",
    "        price: 44.00,\n",
    "        description: 'The best soccer ball ever!',\n",
    "        image: \"imgs/soccer/ball.png\",\n",
    "    },\n",
    "    {\n",
    "        name: 'Tubing raft',\n",
    "        price: 624.00,\n",
    "        description: 'Have some extreme fun being pulled in this raft!',\n",
    "        image: \"imgs/soccer/ball.png\",\n",
    "    },\n",
    "    {\n",
    "        name: 'Chess board and pieces',\n",
    "        price: 499.00,\n",
    "        description: 'finest wood',\n",
    "        image: \"imgs/soccer/ball.png\",\n",
    "    },\n",
    "]"
   ]
  },
  {
   "cell_type": "code",
   "execution_count": 4,
   "metadata": {},
   "outputs": [
    {
     "data": {
      "text/plain": [
       "{\n",
       "  username: 'Mark',\n",
       "  email: 'edmonton@comit.org',\n",
       "  cart: [ { id: 4, quantity: 2 } ]\n",
       "}"
      ]
     },
     "execution_count": 4,
     "metadata": {},
     "output_type": "execute_result"
    }
   ],
   "source": [
    "user = {\n",
    "    username: 'Mark',\n",
    "    email: 'edmonton@comit.org',\n",
    "    cart: [\n",
    "        {\n",
    "            id: 4,\n",
    "            quantity: 2,\n",
    "        }\n",
    "    ]\n",
    "}"
   ]
  },
  {
   "cell_type": "code",
   "execution_count": 5,
   "metadata": {},
   "outputs": [
    {
     "data": {
      "text/plain": [
       "{ sortBy: 'name', itemsPerPage: 5, currentPage: 1 }"
      ]
     },
     "execution_count": 5,
     "metadata": {},
     "output_type": "execute_result"
    }
   ],
   "source": [
    "dispayOptions = {\n",
    "    sortBy: 'name',\n",
    "    itemsPerPage: 5,\n",
    "    currentPage: 1,\n",
    "}"
   ]
  },
  {
   "cell_type": "code",
   "execution_count": 6,
   "metadata": {},
   "outputs": [],
   "source": [
    "function addItemToCart(user, item) {\n",
    "    user.cart.push(item);\n",
    "}"
   ]
  },
  {
   "cell_type": "code",
   "execution_count": 8,
   "metadata": {},
   "outputs": [
    {
     "data": {
      "text/plain": [
       "{\n",
       "  name: 'Hockey stick',\n",
       "  price: 124,\n",
       "  description: \"It's good!\",\n",
       "  image: 'imgs/hockey/stick.png'\n",
       "}"
      ]
     },
     "execution_count": 8,
     "metadata": {},
     "output_type": "execute_result"
    }
   ],
   "source": [
    "newItem = {\n",
    "    name: 'Hockey stick',\n",
    "    price: 124.00,\n",
    "    description: \"It's good!\",\n",
    "    image: \"imgs/hockey/stick.png\",\n",
    "}"
   ]
  },
  {
   "cell_type": "code",
   "execution_count": 9,
   "metadata": {},
   "outputs": [],
   "source": [
    "addItemToCart(user, newItem);"
   ]
  },
  {
   "cell_type": "code",
   "execution_count": 10,
   "metadata": {},
   "outputs": [
    {
     "data": {
      "text/plain": [
       "{\n",
       "  username: 'Mark',\n",
       "  email: 'edmonton@comit.org',\n",
       "  cart: [\n",
       "    { id: 4, quantity: 2 },\n",
       "    {\n",
       "      name: 'Hockey stick',\n",
       "      price: 124,\n",
       "      description: \"It's good!\",\n",
       "      image: 'imgs/hockey/stick.png'\n",
       "    }\n",
       "  ]\n",
       "}"
      ]
     },
     "execution_count": 10,
     "metadata": {},
     "output_type": "execute_result"
    }
   ],
   "source": [
    "user"
   ]
  },
  {
   "cell_type": "code",
   "execution_count": null,
   "metadata": {},
   "outputs": [],
   "source": []
  }
 ],
 "metadata": {
  "kernelspec": {
   "display_name": "Javascript (Node.js)",
   "language": "javascript",
   "name": "javascript"
  },
  "language_info": {
   "file_extension": ".js",
   "mimetype": "application/javascript",
   "name": "javascript",
   "version": "12.16.0"
  }
 },
 "nbformat": 4,
 "nbformat_minor": 4
}
