{
 "cells": [
  {
   "cell_type": "code",
   "execution_count": 4,
   "metadata": {},
   "outputs": [
    {
     "output_type": "error",
     "ename": "SyntaxError",
     "evalue": "Identifier 'topScores' has already been declared",
     "traceback": [
      "evalmachine.<anonymous>:1",
      "let topScores = [",
      "^",
      "",
      "SyntaxError: Identifier 'topScores' has already been declared",
      "    at evalmachine.<anonymous>:1:1",
      "    at Script.runInThisContext (vm.js:120:18)",
      "    at Object.runInThisContext (vm.js:309:38)",
      "    at run ([eval]:1054:15)",
      "    at onRunRequest ([eval]:888:18)",
      "    at onMessage ([eval]:848:13)",
      "    at process.emit (events.js:314:20)",
      "    at emit (internal/child_process.js:876:12)",
      "    at processTicksAndRejections (internal/process/task_queues.js:85:21)"
     ]
    }
   ],
   "source": [
    "let topScores = [\n",
    "    {\n",
    "       name:\"Le Dung\",\n",
    "       score:3000\n",
    "    },\n",
    "    \n",
    "    {\n",
    "       name:\"Huong Nguyen\",\n",
    "       score:1000\n",
    "    },\n",
    "    {\n",
    "       name:\"Le Bo\",\n",
    "       score:2000\n",
    "    }\n",
    "]"
   ]
  },
  {
   "cell_type": "code",
   "execution_count": 5,
   "metadata": {},
   "outputs": [
    {
     "output_type": "execute_result",
     "data": {
      "text/plain": [
       "[\n",
       "  { name: 'Le Dung', score: 3000 },\n",
       "  { name: 'Huong Nguyen', score: 1000 },\n",
       "  { name: 'Le Bo', score: 2000 }\n",
       "]"
      ]
     },
     "metadata": {},
     "execution_count": 5
    }
   ],
   "source": [
    "topScores"
   ]
  },
  {
   "cell_type": "markdown",
   "metadata": {},
   "source": [
    "# Sort objects in the array by scores in descending order"
   ]
  },
  {
   "cell_type": "code",
   "execution_count": 6,
   "metadata": {},
   "outputs": [
    {
     "output_type": "execute_result",
     "data": {
      "text/plain": [
       "[\n",
       "  { name: 'Le Dung', score: 3000 },\n",
       "  { name: 'Le Bo', score: 2000 },\n",
       "  { name: 'Huong Nguyen', score: 1000 }\n",
       "]"
      ]
     },
     "metadata": {},
     "execution_count": 6
    }
   ],
   "source": [
    "topScores.sort ((a, b) => b.score - a.score)"
   ]
  },
  {
   "cell_type": "markdown",
   "metadata": {},
   "source": [
    "# Sort objects in the array by scores in ascending order"
   ]
  },
  {
   "cell_type": "code",
   "execution_count": 4,
   "metadata": {},
   "outputs": [
    {
     "data": {
      "text/plain": [
       "[\n",
       "  { name: 'Huong Nguyen', score: 1000 },\n",
       "  { name: 'Le Bo', score: 2000 },\n",
       "  { name: 'Le Dung', score: 3000 }\n",
       "]"
      ]
     },
     "execution_count": 4,
     "metadata": {},
     "output_type": "execute_result"
    }
   ],
   "source": [
    "topScores.sort ((a, b) => a.score - b.score)"
   ]
  },
  {
   "cell_type": "markdown",
   "metadata": {},
   "source": [
    "# New object will replace the last object in the array "
   ]
  },
  {
   "cell_type": "code",
   "execution_count": 5,
   "metadata": {},
   "outputs": [],
   "source": [
    "let newPlayerScore = \n",
    "    {\n",
    "        name:\"Mark\",\n",
    "        score:1200\n",
    "    }"
   ]
  },
  {
   "cell_type": "code",
   "execution_count": 6,
   "metadata": {},
   "outputs": [
    {
     "data": {
      "text/plain": [
       "[\n",
       "  { name: 'Huong Nguyen', score: 1000 },\n",
       "  { name: 'Le Bo', score: 2000 },\n",
       "  { name: 'Le Dung', score: 3000 }\n",
       "]"
      ]
     },
     "execution_count": 6,
     "metadata": {},
     "output_type": "execute_result"
    }
   ],
   "source": [
    "topScores"
   ]
  },
  {
   "cell_type": "code",
   "execution_count": 7,
   "metadata": {},
   "outputs": [],
   "source": [
    "let last = topScores.length-1;"
   ]
  },
  {
   "cell_type": "code",
   "execution_count": 8,
   "metadata": {},
   "outputs": [
    {
     "data": {
      "text/plain": [
       "2"
      ]
     },
     "execution_count": 8,
     "metadata": {},
     "output_type": "execute_result"
    }
   ],
   "source": [
    "last"
   ]
  },
  {
   "cell_type": "markdown",
   "metadata": {},
   "source": [
    "# Replace the last element of the array by \"fill\""
   ]
  },
  {
   "cell_type": "code",
   "execution_count": 9,
   "metadata": {},
   "outputs": [
    {
     "data": {
      "text/plain": [
       "[\n",
       "  { name: 'Huong Nguyen', score: 1000 },\n",
       "  { name: 'Le Bo', score: 2000 },\n",
       "  { name: 'Mark', score: 1200 }\n",
       "]"
      ]
     },
     "execution_count": 9,
     "metadata": {},
     "output_type": "execute_result"
    }
   ],
   "source": [
    "if (topScores[last].score > newPlayerScore.score) {topScores.fill(newPlayerScore,last,last+1)}"
   ]
  },
  {
   "cell_type": "markdown",
   "metadata": {},
   "source": [
    "# Re-sort after replaced the last object by the new object"
   ]
  },
  {
   "cell_type": "code",
   "execution_count": 10,
   "metadata": {},
   "outputs": [
    {
     "data": {
      "text/plain": [
       "[\n",
       "  { name: 'Huong Nguyen', score: 1000 },\n",
       "  { name: 'Mark', score: 1200 },\n",
       "  { name: 'Le Bo', score: 2000 }\n",
       "]"
      ]
     },
     "execution_count": 10,
     "metadata": {},
     "output_type": "execute_result"
    }
   ],
   "source": [
    "topScores.sort ((a, b) => a.score - b.score)"
   ]
  },
  {
   "cell_type": "markdown",
   "metadata": {},
   "source": [
    "# Or can replace the last element of the array by \"splice\""
   ]
  },
  {
   "cell_type": "code",
   "execution_count": 11,
   "metadata": {},
   "outputs": [
    {
     "name": "stdout",
     "output_type": "stream",
     "text": [
      "[\n",
      "  { name: 'Huong Nguyen', score: 1000 },\n",
      "  { name: 'Trump', score: 1100 },\n",
      "  { name: 'Mark', score: 1200 }\n",
      "]\n"
     ]
    }
   ],
   "source": [
    "newPlayerScore = \n",
    "    {\n",
    "        name:\"Trump\",\n",
    "        score:1100\n",
    "    }\n",
    "if (topScores[last].score > newPlayerScore.score) {topScores.splice(last,1,newPlayerScore)}\n",
    "topScores.sort ((a, b) => a.score - b.score);\n",
    "console.log(topScores);"
   ]
  },
  {
   "cell_type": "markdown",
   "metadata": {},
   "source": [
    "# Find an element in array of objects by player name"
   ]
  },
  {
   "cell_type": "code",
   "execution_count": 12,
   "metadata": {},
   "outputs": [
    {
     "name": "stdout",
     "output_type": "stream",
     "text": [
      "{ name: 'Trump', score: 1100 }\n"
     ]
    }
   ],
   "source": [
    "let playerName = \"Trump\";\n",
    "let foundElement = topScores.find(element => element.name == playerName);\n",
    "console.log(foundElement);"
   ]
  },
  {
   "cell_type": "code",
   "execution_count": 13,
   "metadata": {},
   "outputs": [
    {
     "name": "stdout",
     "output_type": "stream",
     "text": [
      "1\n"
     ]
    }
   ],
   "source": [
    "let foundElementIndex = topScores.findIndex(element => element.name == playerName);\n",
    "console.log(foundElementIndex);"
   ]
  },
  {
   "cell_type": "code",
   "execution_count": 7,
   "metadata": {},
   "outputs": [
    {
     "output_type": "stream",
     "name": "stdout",
     "text": [
      "1\n"
     ]
    }
   ],
   "source": [
    "playerName = \"Le Bo\";\n",
    "foundElementIndex = topScores.findIndex(element => element.name == playerName);\n",
    "console.log(foundElementIndex);"
   ]
  },
  {
   "cell_type": "code",
   "execution_count": null,
   "metadata": {},
   "outputs": [],
   "source": []
  }
 ],
 "metadata": {
  "kernelspec": {
   "display_name": "Javascript (Node.js)",
   "language": "javascript",
   "name": "javascript"
  },
  "language_info": {
   "file_extension": ".js",
   "mimetype": "application/javascript",
   "name": "javascript",
   "version": "12.19.0"
  }
 },
 "nbformat": 4,
 "nbformat_minor": 4
}